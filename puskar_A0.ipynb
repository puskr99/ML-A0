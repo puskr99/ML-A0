import numpy as np
2
3 array = np.array([1, 2, 3, 4, 5])
4 print("NumPy Array:", array)
5 print("Sum of Array:", np.sum(array))
